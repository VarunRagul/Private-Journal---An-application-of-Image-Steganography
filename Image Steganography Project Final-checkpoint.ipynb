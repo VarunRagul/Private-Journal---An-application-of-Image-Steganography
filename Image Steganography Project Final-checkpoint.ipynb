{
 "cells": [
  {
   "cell_type": "markdown",
   "id": "3aa4ec1b",
   "metadata": {},
   "source": [
    "# IMAGE BASED STEGANOGRAPHY\n",
    "## CSE3045 Review 3\n",
    "## Team 1"
   ]
  },
  {
   "cell_type": "code",
   "execution_count": 1,
   "id": "a1aaa0ea",
   "metadata": {},
   "outputs": [],
   "source": [
    "from PIL import Image\n",
    "from IPython.display import display\n",
    "import ipywidgets as widgets\n",
    "from IPython.display import display,clear_output\n",
    "import smtplib\n",
    "from email.message import EmailMessage\n",
    "\n",
    "import warnings\n",
    "warnings.filterwarnings('ignore')"
   ]
  },
  {
   "cell_type": "code",
   "execution_count": 2,
   "id": "34d9c505",
   "metadata": {},
   "outputs": [],
   "source": [
    "def convert(data):\n",
    "        binary=[]\n",
    "        for i in data:\n",
    "            binary.append(format(ord(i),'08b'))\n",
    "        return binary"
   ]
  },
  {
   "cell_type": "code",
   "execution_count": 3,
   "id": "0ab69adf",
   "metadata": {},
   "outputs": [],
   "source": [
    "def modifypix(pix,data):\n",
    "    dl=convert(data)\n",
    "    size=len(dl)\n",
    "    imdata=iter(pix)\n",
    " \n",
    "    for i in range(size):\n",
    "        pix=[value for value in imdata.__next__()[:3]+imdata.__next__()[:3]+imdata.__next__()[:3]]\n",
    " \n",
    "        for j in range(0,8):\n",
    "            if(dl[i][j]=='0' and pix[j]%2!=0):\n",
    "                pix[j]=pix[j]-1\n",
    " \n",
    "            elif(dl[i][j]=='1' and pix[j]%2==0):\n",
    "                if(pix[j]==0):\n",
    "                    pix[j]=pix[j]+1\n",
    "                else:\n",
    "                    pix[j]=pix[j]-1\n",
    "    \n",
    "        if(i==size-1):\n",
    "            if(pix[-1]%2==0):\n",
    "                if(pix[-1]!=0):\n",
    "                    pix[-1]=pix[-1]-1\n",
    "                else:\n",
    "                    pix[-1]=pix[-1]+1\n",
    " \n",
    "        else:\n",
    "            if(pix[-1]%2!=0):\n",
    "                pix[-1]=pix[-1]-1\n",
    "     \n",
    "        pix=tuple(pix)\n",
    "        yield pix[0:3]\n",
    "        yield pix[3:6]\n",
    "        yield pix[6:9]"
   ]
  },
  {
   "cell_type": "code",
   "execution_count": 4,
   "id": "9e45b846",
   "metadata": {},
   "outputs": [],
   "source": [
    "def exchange(img,data):\n",
    "    w=img.size[0]\n",
    "    x=0\n",
    "    y=0\n",
    "    pix=img.getdata()\n",
    "    for i in modifypix(pix,data):\n",
    "        \n",
    "        img.putpixel((x,y),i) \n",
    "        if (x==w-1):\n",
    "            x=0\n",
    "            y=y+1\n",
    "        else:\n",
    "            x=x+1"
   ]
  },
  {
   "cell_type": "code",
   "execution_count": 5,
   "id": "b0b5fb98",
   "metadata": {},
   "outputs": [],
   "source": [
    "def encoding():\n",
    "    img=input(\"Enter image name with extension:\")\n",
    "    img=Image.open(img,'r')\n",
    "    print(\"The image to be encoded:\")\n",
    "    display(img)\n",
    "    b,h=img.size\n",
    "    y=b*h\n",
    "    \n",
    "    data=input(\"Type your secret journal entry: \")\n",
    "    x=len(data)\n",
    "    if(x==0):\n",
    "        print(\"Data is empty\")\n",
    "        exit()\n",
    "    if(y>(x*3)):\n",
    "        print(\"The image has \",y,\" number of pixels, You're good to go\")\n",
    "    else:\n",
    "        print(\"Number of pixels is not enough, upload a larger image.\")\n",
    "        exit()\n",
    "        \n",
    "    newimg=img.copy()\n",
    "    exchange(newimg, data)\n",
    "\n",
    "    name=input(\"Enter the name of new image with extension:\")\n",
    "    newimg.save(name, str(name.split(\".\")[1].upper()))\n",
    "    print(\"Encoding has finished successfully, you can now download your new image!\")"
   ]
  },
  {
   "cell_type": "code",
   "execution_count": 6,
   "id": "b4711d4e",
   "metadata": {},
   "outputs": [],
   "source": [
    "def decoding():\n",
    "    img=input(\"Enter image name(with extension) : \")\n",
    "    image=Image.open(img, 'r')\n",
    "    print(\"The image to be decoded:\")\n",
    "    display(image)\n",
    "    data=''\n",
    "    \n",
    "    imgdata=iter(image.getdata())\n",
    "    while(True):\n",
    "        pixels=[value for value in imgdata.__next__()[:3]+imgdata.__next__()[:3]+imgdata.__next__()[:3]]\n",
    " \n",
    "        binstr=''\n",
    "        for i in pixels[:8]:\n",
    "            if (i%2==0):\n",
    "                binstr+='0'\n",
    "            else:\n",
    "                binstr+='1'\n",
    "         \n",
    "        data+=chr(int(binstr,2))\n",
    "        if (pixels[-1] % 2 != 0):\n",
    "            return data"
   ]
  },
  {
   "cell_type": "code",
   "execution_count": 7,
   "id": "365f1921",
   "metadata": {},
   "outputs": [],
   "source": [
    "def main():\n",
    "    page()\n",
    "    while(1):\n",
    "        a=int(input(\"\\nEnter your option here: \"))\n",
    "        if (a==1):\n",
    "            encoding()\n",
    "        elif (a==2):\n",
    "            print(\"The decoded message:\" + decoding())\n",
    "        elif (a==3):\n",
    "            print(\"Send your friend an encoded secret message\")\n",
    "            mail()\n",
    "        elif (a==4):\n",
    "            print(\"Thank you for using the journal!\")\n",
    "            break\n",
    "        else:\n",
    "            print(\"Invalid input\")\n",
    "            break"
   ]
  },
  {
   "cell_type": "code",
   "execution_count": 8,
   "id": "433b60ab",
   "metadata": {},
   "outputs": [],
   "source": [
    "def mail():\n",
    "    frnd=input(\"Enter your friend's gmail id here:\")\n",
    "    mailid=\"exampleacct31@gmail.com\"\n",
    "    password=\"password#87\"\n",
    "    img=input(\"Enter image name with extension: \")\n",
    "\n",
    "    server=smtplib.SMTP_SSL(\"smtp.gmail.com\",465)\n",
    "    server.login(mailid,password)\n",
    "\n",
    "    msg=EmailMessage()\n",
    "    msg['Subject']='Open your secret gift'\n",
    "    msg['From']=mailid\n",
    "    msg['To']=frnd\n",
    "    msg.set_content('Your secret message attached, to decrypt visit our page')\n",
    "\n",
    "    with open(img,'rb') as f:\n",
    "        data=f.read()\n",
    "        imgtype='png'\n",
    "    \n",
    "    msg.add_attachment(data,maintype='image',subtype=imgtype,filename=f.name) \n",
    "    server.send_message(msg)\n",
    "    server.quit"
   ]
  },
  {
   "cell_type": "code",
   "execution_count": 9,
   "id": "f4c6af08",
   "metadata": {},
   "outputs": [],
   "source": [
    "def page():\n",
    "    text_0=widgets.HTML(value=\"<h1>PRIVATE JOURNAL</h1>\")\n",
    "    vbox_text=widgets.VBox([text_0])\n",
    "    text_2=widgets.HTML(value=\"<h2>Choose your option:</h2>\")\n",
    "    text_3=widgets.HTML(value=\"<h3>1. Encode</h3>\")\n",
    "    text_4=widgets.HTML(value=\"<h3>2. Decode</h3>\")\n",
    "    text_5=widgets.HTML(value=\"<h3>3. Mail Yhgjour Friend</h3>\")\n",
    "    text_6=widgets.HTML(value=\"<h3>4. Exit</h3>\")\n",
    "    page = widgets.VBox([vbox_text,text_2,text_3,text_4,text_5,text_6])\n",
    "    display(page)"
   ]
  },
  {
   "cell_type": "code",
   "execution_count": 11,
   "id": "ef11640a",
   "metadata": {
    "scrolled": false
   },
   "outputs": [
    {
     "data": {
      "application/vnd.jupyter.widget-view+json": {
       "model_id": "5c2640a55ee241cda2d1992d88a7c59e",
       "version_major": 2,
       "version_minor": 0
      },
      "text/plain": [
       "VBox(children=(VBox(children=(HTML(value='<h1>PRIVATE JOURNAL</h1>'),)), HTML(value='<h2>Choose your option:</…"
      ]
     },
     "metadata": {},
     "output_type": "display_data"
    },
    {
     "name": "stdout",
     "output_type": "stream",
     "text": [
      "\n",
      "Enter your option here: 4\n",
      "Thank you for using the journal!\n"
     ]
    }
   ],
   "source": [
    "main()"
   ]
  },
  {
   "cell_type": "code",
   "execution_count": null,
   "id": "ebef87fd",
   "metadata": {},
   "outputs": [],
   "source": []
  }
 ],
 "metadata": {
  "kernelspec": {
   "display_name": "Python 3",
   "language": "python",
   "name": "python3"
  },
  "language_info": {
   "codemirror_mode": {
    "name": "ipython",
    "version": 3
   },
   "file_extension": ".py",
   "mimetype": "text/x-python",
   "name": "python",
   "nbconvert_exporter": "python",
   "pygments_lexer": "ipython3",
   "version": "3.9.5"
  }
 },
 "nbformat": 4,
 "nbformat_minor": 5
}
